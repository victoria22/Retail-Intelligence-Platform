{
 "cells": [
  {
   "cell_type": "code",
   "execution_count": 4,
   "id": "0f6ad774-f00a-43dd-bca5-7ed1beee316d",
   "metadata": {},
   "outputs": [
    {
     "name": "stdout",
     "output_type": "stream",
     "text": [
      "Collecting kaggle\n",
      "  Downloading kaggle-1.7.4.2-py3-none-any.whl.metadata (16 kB)\n",
      "Requirement already satisfied: bleach in /opt/anaconda3/envs/spark_env/lib/python3.9/site-packages (from kaggle) (6.2.0)\n",
      "Requirement already satisfied: certifi>=14.05.14 in /opt/anaconda3/envs/spark_env/lib/python3.9/site-packages (from kaggle) (2025.1.31)\n",
      "Requirement already satisfied: charset-normalizer in /opt/anaconda3/envs/spark_env/lib/python3.9/site-packages (from kaggle) (3.4.1)\n",
      "Requirement already satisfied: idna in /opt/anaconda3/envs/spark_env/lib/python3.9/site-packages (from kaggle) (3.10)\n",
      "Collecting protobuf (from kaggle)\n",
      "  Using cached protobuf-6.30.1-cp39-abi3-macosx_10_9_universal2.whl.metadata (593 bytes)\n",
      "Requirement already satisfied: python-dateutil>=2.5.3 in /opt/anaconda3/envs/spark_env/lib/python3.9/site-packages (from kaggle) (2.9.0.post0)\n",
      "Collecting python-slugify (from kaggle)\n",
      "  Using cached python_slugify-8.0.4-py2.py3-none-any.whl.metadata (8.5 kB)\n",
      "Requirement already satisfied: requests in /opt/anaconda3/envs/spark_env/lib/python3.9/site-packages (from kaggle) (2.32.3)\n",
      "Requirement already satisfied: setuptools>=21.0.0 in /opt/anaconda3/envs/spark_env/lib/python3.9/site-packages (from kaggle) (75.8.0)\n",
      "Requirement already satisfied: six>=1.10 in /opt/anaconda3/envs/spark_env/lib/python3.9/site-packages (from kaggle) (1.17.0)\n",
      "Collecting text-unidecode (from kaggle)\n",
      "  Using cached text_unidecode-1.3-py2.py3-none-any.whl.metadata (2.4 kB)\n",
      "Collecting tqdm (from kaggle)\n",
      "  Using cached tqdm-4.67.1-py3-none-any.whl.metadata (57 kB)\n",
      "Requirement already satisfied: urllib3>=1.15.1 in /opt/anaconda3/envs/spark_env/lib/python3.9/site-packages (from kaggle) (2.3.0)\n",
      "Requirement already satisfied: webencodings in /opt/anaconda3/envs/spark_env/lib/python3.9/site-packages (from kaggle) (0.5.1)\n",
      "Downloading kaggle-1.7.4.2-py3-none-any.whl (173 kB)\n",
      "Using cached protobuf-6.30.1-cp39-abi3-macosx_10_9_universal2.whl (417 kB)\n",
      "Using cached python_slugify-8.0.4-py2.py3-none-any.whl (10 kB)\n",
      "Using cached text_unidecode-1.3-py2.py3-none-any.whl (78 kB)\n",
      "Using cached tqdm-4.67.1-py3-none-any.whl (78 kB)\n",
      "Installing collected packages: text-unidecode, tqdm, python-slugify, protobuf, kaggle\n",
      "Successfully installed kaggle-1.7.4.2 protobuf-6.30.1 python-slugify-8.0.4 text-unidecode-1.3 tqdm-4.67.1\n",
      "Collecting google-cloud-storage\n",
      "  Using cached google_cloud_storage-3.1.0-py2.py3-none-any.whl.metadata (12 kB)\n",
      "Collecting google-auth<3.0dev,>=2.26.1 (from google-cloud-storage)\n",
      "  Using cached google_auth-2.38.0-py2.py3-none-any.whl.metadata (4.8 kB)\n",
      "Collecting google-api-core<3.0.0dev,>=2.15.0 (from google-cloud-storage)\n",
      "  Using cached google_api_core-2.24.2-py3-none-any.whl.metadata (3.0 kB)\n",
      "Collecting google-cloud-core<3.0dev,>=2.4.2 (from google-cloud-storage)\n",
      "  Using cached google_cloud_core-2.4.3-py2.py3-none-any.whl.metadata (2.7 kB)\n",
      "Collecting google-resumable-media>=2.7.2 (from google-cloud-storage)\n",
      "  Using cached google_resumable_media-2.7.2-py2.py3-none-any.whl.metadata (2.2 kB)\n",
      "Requirement already satisfied: requests<3.0.0dev,>=2.18.0 in /opt/anaconda3/envs/spark_env/lib/python3.9/site-packages (from google-cloud-storage) (2.32.3)\n",
      "Collecting google-crc32c<2.0dev,>=1.0 (from google-cloud-storage)\n",
      "  Downloading google_crc32c-1.7.0-cp39-cp39-macosx_12_0_arm64.whl.metadata (2.4 kB)\n",
      "Collecting googleapis-common-protos<2.0.0,>=1.56.2 (from google-api-core<3.0.0dev,>=2.15.0->google-cloud-storage)\n",
      "  Downloading googleapis_common_protos-1.69.2-py3-none-any.whl.metadata (9.3 kB)\n",
      "Requirement already satisfied: protobuf!=3.20.0,!=3.20.1,!=4.21.0,!=4.21.1,!=4.21.2,!=4.21.3,!=4.21.4,!=4.21.5,<7.0.0,>=3.19.5 in /opt/anaconda3/envs/spark_env/lib/python3.9/site-packages (from google-api-core<3.0.0dev,>=2.15.0->google-cloud-storage) (6.30.1)\n",
      "Collecting proto-plus<2.0.0,>=1.22.3 (from google-api-core<3.0.0dev,>=2.15.0->google-cloud-storage)\n",
      "  Using cached proto_plus-1.26.1-py3-none-any.whl.metadata (2.2 kB)\n",
      "Collecting cachetools<6.0,>=2.0.0 (from google-auth<3.0dev,>=2.26.1->google-cloud-storage)\n",
      "  Using cached cachetools-5.5.2-py3-none-any.whl.metadata (5.4 kB)\n",
      "Collecting pyasn1-modules>=0.2.1 (from google-auth<3.0dev,>=2.26.1->google-cloud-storage)\n",
      "  Using cached pyasn1_modules-0.4.1-py3-none-any.whl.metadata (3.5 kB)\n",
      "Collecting rsa<5,>=3.1.4 (from google-auth<3.0dev,>=2.26.1->google-cloud-storage)\n",
      "  Using cached rsa-4.9-py3-none-any.whl.metadata (4.2 kB)\n",
      "Requirement already satisfied: charset-normalizer<4,>=2 in /opt/anaconda3/envs/spark_env/lib/python3.9/site-packages (from requests<3.0.0dev,>=2.18.0->google-cloud-storage) (3.4.1)\n",
      "Requirement already satisfied: idna<4,>=2.5 in /opt/anaconda3/envs/spark_env/lib/python3.9/site-packages (from requests<3.0.0dev,>=2.18.0->google-cloud-storage) (3.10)\n",
      "Requirement already satisfied: urllib3<3,>=1.21.1 in /opt/anaconda3/envs/spark_env/lib/python3.9/site-packages (from requests<3.0.0dev,>=2.18.0->google-cloud-storage) (2.3.0)\n",
      "Requirement already satisfied: certifi>=2017.4.17 in /opt/anaconda3/envs/spark_env/lib/python3.9/site-packages (from requests<3.0.0dev,>=2.18.0->google-cloud-storage) (2025.1.31)\n",
      "Collecting pyasn1<0.7.0,>=0.4.6 (from pyasn1-modules>=0.2.1->google-auth<3.0dev,>=2.26.1->google-cloud-storage)\n",
      "  Using cached pyasn1-0.6.1-py3-none-any.whl.metadata (8.4 kB)\n",
      "Using cached google_cloud_storage-3.1.0-py2.py3-none-any.whl (174 kB)\n",
      "Using cached google_api_core-2.24.2-py3-none-any.whl (160 kB)\n",
      "Using cached google_auth-2.38.0-py2.py3-none-any.whl (210 kB)\n",
      "Using cached google_cloud_core-2.4.3-py2.py3-none-any.whl (29 kB)\n",
      "Downloading google_crc32c-1.7.0-cp39-cp39-macosx_12_0_arm64.whl (30 kB)\n",
      "Using cached google_resumable_media-2.7.2-py2.py3-none-any.whl (81 kB)\n",
      "Using cached cachetools-5.5.2-py3-none-any.whl (10 kB)\n",
      "Downloading googleapis_common_protos-1.69.2-py3-none-any.whl (293 kB)\n",
      "Using cached proto_plus-1.26.1-py3-none-any.whl (50 kB)\n",
      "Using cached pyasn1_modules-0.4.1-py3-none-any.whl (181 kB)\n",
      "Using cached rsa-4.9-py3-none-any.whl (34 kB)\n",
      "Using cached pyasn1-0.6.1-py3-none-any.whl (83 kB)\n",
      "Installing collected packages: pyasn1, proto-plus, googleapis-common-protos, google-crc32c, cachetools, rsa, pyasn1-modules, google-resumable-media, google-auth, google-api-core, google-cloud-core, google-cloud-storage\n",
      "Successfully installed cachetools-5.5.2 google-api-core-2.24.2 google-auth-2.38.0 google-cloud-core-2.4.3 google-cloud-storage-3.1.0 google-crc32c-1.7.0 google-resumable-media-2.7.2 googleapis-common-protos-1.69.2 proto-plus-1.26.1 pyasn1-0.6.1 pyasn1-modules-0.4.1 rsa-4.9\n"
     ]
    }
   ],
   "source": [
    "!pip install kaggle\n",
    "!pip install google-cloud-storage\n"
   ]
  },
  {
   "cell_type": "code",
   "execution_count": 18,
   "id": "3017f017-4861-45b0-9aeb-54f421398722",
   "metadata": {},
   "outputs": [],
   "source": [
    "import os\n",
    "from kaggle.api.kaggle_api_extended import KaggleApi\n",
    "from google.cloud import storage"
   ]
  },
  {
   "cell_type": "code",
   "execution_count": 20,
   "id": "d95e48c6-2e24-4178-915f-b7e800c26f5a",
   "metadata": {},
   "outputs": [],
   "source": [
    "# Initialize the Kaggle API\n",
    "api = KaggleApi()\n",
    "api.authenticate()"
   ]
  },
  {
   "cell_type": "code",
   "execution_count": 22,
   "id": "87a30303-0f90-49bf-b9b9-e9658d735d98",
   "metadata": {},
   "outputs": [],
   "source": [
    "# Define dataset and download path\n",
    "dataset = 'thedevastator/online-retail-transaction-data'\n",
    "download_path = './raw_uk_online_retail_data/'"
   ]
  },
  {
   "cell_type": "code",
   "execution_count": 24,
   "id": "9e81d7df-2acf-4465-b5f0-087c30fe89d1",
   "metadata": {},
   "outputs": [],
   "source": [
    "# Create the directory if it doesn't exist\n",
    "os.makedirs(download_path, exist_ok=True)"
   ]
  },
  {
   "cell_type": "code",
   "execution_count": 26,
   "id": "5af82219-d8b4-4bca-aef8-98d433db721c",
   "metadata": {},
   "outputs": [
    {
     "name": "stdout",
     "output_type": "stream",
     "text": [
      "Dataset URL: https://www.kaggle.com/datasets/thedevastator/online-retail-transaction-data\n"
     ]
    }
   ],
   "source": [
    "# Download the dataset\n",
    "api.dataset_download_files(dataset, path=download_path, unzip=True)"
   ]
  },
  {
   "cell_type": "code",
   "execution_count": 27,
   "id": "0a1a622b-0be8-4397-af12-4d662e543504",
   "metadata": {},
   "outputs": [],
   "source": [
    "# Initialize Google Cloud Storage client\n",
    "client = storage.Client()"
   ]
  },
  {
   "cell_type": "code",
   "execution_count": 30,
   "id": "6a1790a9-34e9-4037-8107-df67bb144b14",
   "metadata": {},
   "outputs": [],
   "source": [
    "# Define the GCS bucket\n",
    "bucket_name = 'mortgage-data-bucket'\n",
    "bucket = client.get_bucket(bucket_name)"
   ]
  },
  {
   "cell_type": "code",
   "execution_count": 32,
   "id": "f51ffa17-f534-40f1-bf0a-2dfc788f4ebc",
   "metadata": {},
   "outputs": [],
   "source": [
    "# Path to the downloaded files\n",
    "local_directory = './raw_uk_online_retail_data/'"
   ]
  },
  {
   "cell_type": "code",
   "execution_count": 34,
   "id": "d2e7d2b5-c65d-46be-93c0-c79636dd39f9",
   "metadata": {},
   "outputs": [
    {
     "name": "stdout",
     "output_type": "stream",
     "text": [
      "Uploaded online_retail.csv to gs://mortgage-data-bucket/uk_online_retail_data/online_retail.csv\n"
     ]
    }
   ],
   "source": [
    "# Upload files to GCS\n",
    "for root, dirs, files in os.walk(local_directory):\n",
    "    for file in files:\n",
    "        if file.endswith('.csv'):  # You can upload only CSV files\n",
    "            local_file_path = os.path.join(root, file)\n",
    "            gcs_blob_path = f\"uk_online_retail_data/{file}\"\n",
    "\n",
    "            # Check if the file already exists in GCS\n",
    "            blob = bucket.blob(gcs_blob_path)\n",
    "            if not blob.exists():  # If the file does not exist in GCS\n",
    "                # Create a blob and upload the file\n",
    "                blob.upload_from_filename(local_file_path)\n",
    "                print(f\"Uploaded {file} to gs://{bucket_name}/{gcs_blob_path}\")\n",
    "            else:\n",
    "                print(f\"File {file} already exists in GCS, skipping upload.\")\n"
   ]
  },
  {
   "cell_type": "code",
   "execution_count": null,
   "id": "5c2a6bd9-d966-4516-a8e6-3699683a8583",
   "metadata": {},
   "outputs": [],
   "source": []
  }
 ],
 "metadata": {
  "kernelspec": {
   "display_name": "Python (spark_env)",
   "language": "python",
   "name": "spark_env"
  },
  "language_info": {
   "codemirror_mode": {
    "name": "ipython",
    "version": 3
   },
   "file_extension": ".py",
   "mimetype": "text/x-python",
   "name": "python",
   "nbconvert_exporter": "python",
   "pygments_lexer": "ipython3",
   "version": "3.9.21"
  }
 },
 "nbformat": 4,
 "nbformat_minor": 5
}
